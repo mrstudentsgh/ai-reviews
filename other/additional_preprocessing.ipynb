{
 "cells": [
  {
   "cell_type": "code",
   "execution_count": 8,
   "metadata": {},
   "outputs": [
    {
     "name": "stderr",
     "output_type": "stream",
     "text": [
      "/Users/andrzejrostkowski/python-code/.venv/lib/python3.9/site-packages/urllib3/__init__.py:35: NotOpenSSLWarning: urllib3 v2 only supports OpenSSL 1.1.1+, currently the 'ssl' module is compiled with 'LibreSSL 2.8.3'. See: https://github.com/urllib3/urllib3/issues/3020\n",
      "  warnings.warn(\n"
     ]
    }
   ],
   "source": [
    "import spacy\n",
    "import re\n",
    "import pandas as pd\n",
    "import contractions\n",
    "import os\n",
    "from spacy.language import Language\n",
    "from spacy_langdetect import LanguageDetector"
   ]
  },
  {
   "cell_type": "code",
   "execution_count": 2,
   "metadata": {},
   "outputs": [
    {
     "data": {
      "text/html": [
       "<div>\n",
       "<style scoped>\n",
       "    .dataframe tbody tr th:only-of-type {\n",
       "        vertical-align: middle;\n",
       "    }\n",
       "\n",
       "    .dataframe tbody tr th {\n",
       "        vertical-align: top;\n",
       "    }\n",
       "\n",
       "    .dataframe thead th {\n",
       "        text-align: right;\n",
       "    }\n",
       "</style>\n",
       "<table border=\"1\" class=\"dataframe\">\n",
       "  <thead>\n",
       "    <tr style=\"text-align: right;\">\n",
       "      <th></th>\n",
       "      <th>text</th>\n",
       "      <th>label</th>\n",
       "      <th>target</th>\n",
       "    </tr>\n",
       "  </thead>\n",
       "  <tbody>\n",
       "    <tr>\n",
       "      <th>0</th>\n",
       "      <td>Talkin' Tacos &amp; Bowls is my go-to spot for tas...</td>\n",
       "      <td>CG</td>\n",
       "      <td>1.0</td>\n",
       "    </tr>\n",
       "    <tr>\n",
       "      <th>1</th>\n",
       "      <td>I recently dined at this restaurant and was im...</td>\n",
       "      <td>CG</td>\n",
       "      <td>1.0</td>\n",
       "    </tr>\n",
       "    <tr>\n",
       "      <th>2</th>\n",
       "      <td>The visit to this charming vineyard was a deli...</td>\n",
       "      <td>CG</td>\n",
       "      <td>1.0</td>\n",
       "    </tr>\n",
       "    <tr>\n",
       "      <th>3</th>\n",
       "      <td>I recently visited Berry Sweet, which opened i...</td>\n",
       "      <td>CG</td>\n",
       "      <td>1.0</td>\n",
       "    </tr>\n",
       "    <tr>\n",
       "      <th>4</th>\n",
       "      <td>I stumbled upon this gem of a restaurant and w...</td>\n",
       "      <td>CG</td>\n",
       "      <td>1.0</td>\n",
       "    </tr>\n",
       "  </tbody>\n",
       "</table>\n",
       "</div>"
      ],
      "text/plain": [
       "                                                text label  target\n",
       "0  Talkin' Tacos & Bowls is my go-to spot for tas...    CG     1.0\n",
       "1  I recently dined at this restaurant and was im...    CG     1.0\n",
       "2  The visit to this charming vineyard was a deli...    CG     1.0\n",
       "3  I recently visited Berry Sweet, which opened i...    CG     1.0\n",
       "4  I stumbled upon this gem of a restaurant and w...    CG     1.0"
      ]
     },
     "execution_count": 2,
     "metadata": {},
     "output_type": "execute_result"
    }
   ],
   "source": [
    "data = pd.read_csv('DANE/df_preprocessed_v2.csv')\n",
    "data.drop([\"Unnamed: 0\",\"nr\"],axis=1,inplace=True)\n",
    "data.head()"
   ]
  },
  {
   "cell_type": "code",
   "execution_count": 4,
   "metadata": {},
   "outputs": [
    {
     "name": "stdout",
     "output_type": "stream",
     "text": [
      "Number of unique chars: 123\n",
      "['T' 'a' 'l' 'k' 'i' 'n' \"'\" ' ' 'c' 'o' 's' '&' 'B' 'w' 'm' 'y' 'g' '-'\n",
      " 't' 'p' 'f' 'r' 'b' 'e' '!' 'h' ',' '.' 'C' 'z' 'v' 'd' '4' 'S' 'D' 'P'\n",
      " 'I' 'u' 'M' 'H' 'q' 'j' 'O' 'x' 'A' '2' '1' '0' '\\n' 'W' 'N' 'E' '$' 'J'\n",
      " 'G' '/' 'F' 'L' '7' '5' '3' '6' '–' '?' 'R' 'K' 'Y' 'U' 'Z' 'V' 'Q' '\"'\n",
      " '¡' ';' '(' ')' '9' ':' '8' 'X' 'é' 'á' 'í' 'ñ' 'ú' 'ó' '—' '#' '%' '™'\n",
      " 'è' 'û' '*' 'ì' '’' '+' '🥪' '🥤' '🤤' 'â' '@' 'ł' 'ą' 'à' 'ü' '‘' 'ç' 'ê'\n",
      " '=' '_' '~' 'ä' 'ß' '|' '\\xa0' '\\r' 'ś' 'ù' ']' '\\u200b' 'É' '`' '×']\n"
     ]
    }
   ],
   "source": [
    "# Unique chars\n",
    "unique_chars = pd.Series(\n",
    "    [char for sentence in data[\"text\"] for char in sentence]\n",
    ").unique()\n",
    "print(\"Number of unique chars:\", len(unique_chars))\n",
    "print(unique_chars)"
   ]
  },
  {
   "cell_type": "markdown",
   "metadata": {},
   "source": [
    "# NER removal"
   ]
  },
  {
   "cell_type": "code",
   "execution_count": 23,
   "metadata": {},
   "outputs": [
    {
     "name": "stderr",
     "output_type": "stream",
     "text": [
      "/Users/andrzejrostkowski/python-code/.venv/lib/python3.9/site-packages/spacy/util.py:910: UserWarning: [W095] Model 'en_core_web_sm' (3.0.0) was trained with spaCy v3.0.0 and may not be 100% compatible with the current version (3.7.4). If you see errors or degraded performance, download a newer compatible model or retrain your custom model with the current spaCy version. For more details and available updates, run: python -m spacy validate\n",
      "  warnings.warn(warn_msg)\n"
     ]
    }
   ],
   "source": [
    "nlp = spacy.load(\"en_core_web_sm\")"
   ]
  },
  {
   "cell_type": "code",
   "execution_count": 29,
   "metadata": {},
   "outputs": [
    {
     "name": "stdout",
     "output_type": "stream",
     "text": [
      "I recently visited Berry Sweet, which opened its doors on August 21, 2010. The first thing that caught my eye was the bright and clean interior, albeit reminiscent of a Phileo knock off. The renovated space had a modern feel, but I couldn't help but notice the limited toppings selection, which left much to be desired. \n",
      "\n",
      "Despite this drawback, I plan on giving Berry Sweet another chance during my next visit. The convenience of its location near my apartment is a major plus, and I'm hoping that the overall experience will improve. While the toppings selection may have been lacking, the potential for a better experience is there. \n",
      "\n",
      "Overall, Berry Sweet has some room for improvement, but I see potential in the place. I'm willing to give it another shot and hope for a more satisfying frozen yogurt experience next time.\n",
      "Berry Sweet PERSON\n",
      "August 21, 2010 DATE\n",
      "first ORDINAL\n",
      "Phileo PRODUCT\n",
      "Berry Sweet PERSON\n",
      "Berry Sweet PERSON\n"
     ]
    }
   ],
   "source": [
    "sentence = data[\"text\"][3]\n",
    "print(sentence)\n",
    "doc = nlp(sentence)\n",
    "for ent in doc.ents:\n",
    "    print(ent.text, ent.label_)"
   ]
  },
  {
   "cell_type": "code",
   "execution_count": 30,
   "metadata": {},
   "outputs": [],
   "source": [
    "def remove_ner(text):\n",
    "    doc = nlp(text)\n",
    "    ents = [e.text for e in doc.ents]\n",
    "    for ent in ents:\n",
    "        text = text.replace(ent, '')\n",
    "    return text"
   ]
  },
  {
   "cell_type": "code",
   "execution_count": 33,
   "metadata": {},
   "outputs": [
    {
     "name": "stdout",
     "output_type": "stream",
     "text": [
      "I recently visited Berry Sweet, which opened its doors on August 21, 2010. The first thing that caught my eye was the bright and clean interior, albeit reminiscent of a Phileo knock off. The renovated space had a modern feel, but I couldn't help but notice the limited toppings selection, which left much to be desired. \n",
      "\n",
      "Despite this drawback, I plan on giving Berry Sweet another chance during my next visit. The convenience of its location near my apartment is a major plus, and I'm hoping that the overall experience will improve. While the toppings selection may have been lacking, the potential for a better experience is there. \n",
      "\n",
      "Overall, Berry Sweet has some room for improvement, but I see potential in the place. I'm willing to give it another shot and hope for a more satisfying frozen yogurt experience next time.\n",
      "==================================================\n",
      "I recently visited , which opened its doors on . The  thing that caught my eye was the bright and clean interior, albeit reminiscent of a  knock off. The renovated space had a modern feel, but I couldn't help but notice the limited toppings selection, which left much to be desired. \n",
      "\n",
      "Despite this drawback, I plan on giving  another chance during my next visit. The convenience of its location near my apartment is a major plus, and I'm hoping that the overall experience will improve. While the toppings selection may have been lacking, the potential for a better experience is there. \n",
      "\n",
      "Overall,  has some room for improvement, but I see potential in the place. I'm willing to give it another shot and hope for a more satisfying frozen yogurt experience next time.\n"
     ]
    }
   ],
   "source": [
    "sentence = data[\"text\"][3]\n",
    "print(sentence)\n",
    "print(\"=\" * 50)\n",
    "print(remove_ner(sentence))"
   ]
  },
  {
   "cell_type": "code",
   "execution_count": 34,
   "metadata": {},
   "outputs": [
    {
     "name": "stderr",
     "output_type": "stream",
     "text": [
      "100%|██████████| 19811/19811 [10:14<00:00, 32.22it/s]\n"
     ]
    }
   ],
   "source": [
    "# Zastosowanie funkcji do kolumny 'text' w dataframe\n",
    "from tqdm import tqdm\n",
    "tqdm.pandas()\n",
    "data['text_without_ner'] = data['text'].progress_apply(remove_ner)"
   ]
  },
  {
   "cell_type": "markdown",
   "metadata": {},
   "source": [
    "# Basic cleaning"
   ]
  },
  {
   "cell_type": "code",
   "execution_count": 35,
   "metadata": {},
   "outputs": [],
   "source": [
    "def clean_text(text: str) -> str:\n",
    "    \"\"\"\n",
    "    Cleans input text by lowercasing and removing punctuation.\n",
    "\n",
    "    :param text: An input string to be cleaned\n",
    "    :return: Cleaned string\n",
    "    \"\"\"\n",
    "\n",
    "    text = text.lower()\n",
    "\n",
    "    # print(\"Lower case\")\n",
    "    # print(text)\n",
    "\n",
    "    desired_elements = r\"[^a-z\\?\\!\\'\\ ]\"\n",
    "    text = re.sub(desired_elements, \"\", text)\n",
    "\n",
    "    # print()\n",
    "    # print(\"Desired signs\")\n",
    "    # print(text)\n",
    "\n",
    "    text = \" \".join([contractions.fix(word) for word in text.split()])\n",
    "\n",
    "    # print()\n",
    "    # print(\"Contractions\")\n",
    "    # print(text)\n",
    "\n",
    "    replacements = {\n",
    "        r\"'s\\b\": \"\",\n",
    "        r\"\\s+\": \" \",\n",
    "    }\n",
    "\n",
    "    for replace, by in replacements.items():\n",
    "        text = re.sub(replace, by, text)\n",
    "\n",
    "    # print()\n",
    "    # print(\"Space and 's\")\n",
    "\n",
    "    return text.strip()"
   ]
  },
  {
   "cell_type": "code",
   "execution_count": 20,
   "metadata": {},
   "outputs": [
    {
     "name": "stdout",
     "output_type": "stream",
     "text": [
      "I recently visited Berry Sweet, which opened its doors on August 21, 2010. The first thing that caught my eye was the bright and clean interior, albeit reminiscent of a Phileo knock off. The renovated space had a modern feel, but I couldn't help but notice the limited toppings selection, which left much to be desired. \n",
      "\n",
      "Despite this drawback, I plan on giving Berry Sweet another chance during my next visit. The convenience of its location near my apartment is a major plus, and I'm hoping that the overall experience will improve. While the toppings selection may have been lacking, the potential for a better experience is there. \n",
      "\n",
      "Overall, Berry Sweet has some room for improvement, but I see potential in the place. I'm willing to give it another shot and hope for a more satisfying frozen yogurt experience next time.\n"
     ]
    },
    {
     "data": {
      "text/plain": [
       "'i recently visited berry sweet which opened its doors on august the first thing that caught my eye was the bright and clean interior albeit reminiscent of a phileo knock off the renovated space had a modern feel but i could not help but notice the limited toppings selection which left much to be desired despite this drawback i plan on giving berry sweet another chance during my next visit the convenience of its location near my apartment is a major plus and i am hoping that the overall experience will improve while the toppings selection may have been lacking the potential for a better experience is there overall berry sweet has some room for improvement but i see potential in the place i am willing to give it another shot and hope for a more satisfying frozen yogurt experience next time'"
      ]
     },
     "execution_count": 20,
     "metadata": {},
     "output_type": "execute_result"
    }
   ],
   "source": [
    "initial_sentence = data[\"text\"][3]\n",
    "print(initial_sentence)\n",
    "example_sentence = clean_text(initial_sentence)\n",
    "example_sentence"
   ]
  },
  {
   "cell_type": "code",
   "execution_count": 36,
   "metadata": {},
   "outputs": [
    {
     "name": "stderr",
     "output_type": "stream",
     "text": [
      "  0%|          | 0/19811 [00:00<?, ?it/s]"
     ]
    },
    {
     "name": "stderr",
     "output_type": "stream",
     "text": [
      "100%|██████████| 19811/19811 [00:11<00:00, 1743.86it/s]\n"
     ]
    }
   ],
   "source": [
    "from tqdm import tqdm\n",
    "tqdm.pandas()\n",
    "# załóżmy, że 'data' to twój dataframe, a 'text' to kolumna, którą chcesz oczyścić\n",
    "data['cleaned_text'] = data['text_without_ner'].progress_apply(clean_text)"
   ]
  },
  {
   "cell_type": "code",
   "execution_count": 37,
   "metadata": {},
   "outputs": [],
   "source": [
    "data.to_csv(\"DANE/PREPROCESSED/yelp_multiple.csv\")"
   ]
  },
  {
   "cell_type": "markdown",
   "metadata": {},
   "source": [
    "# Zastosowanie dla pozostałych zbiorów"
   ]
  },
  {
   "cell_type": "code",
   "execution_count": 38,
   "metadata": {},
   "outputs": [
    {
     "name": "stderr",
     "output_type": "stream",
     "text": [
      "/Users/andrzejrostkowski/python-code/.venv/lib/python3.9/site-packages/openpyxl/worksheet/_reader.py:329: UserWarning: Unknown extension is not supported and will be removed\n",
      "  warn(msg)\n"
     ]
    }
   ],
   "source": [
    "data = pd.read_csv('df_preprocessed_v1.csv')\n",
    "\n",
    "amazon_single = pd.read_csv(\"DANE/reviews_generated1_cut.csv\")\n",
    "yelp_single = pd.read_csv(\"DANE/reviews_generated2_cut.csv\")\n",
    "amazon_ext = pd.read_csv(\"DANE/fake-reviews-dataset.csv\")\n",
    "yelp_ext = pd.read_csv(\"DANE/combat-ai-restaurants-test.csv\")\n",
    "general_gpt3 = pd.read_csv(\"DANE/reviews_generated4_cut.csv\")\n",
    "general_gpt4 = pd.read_csv(\"DANE/reviews_generated5_cut.csv\")\n",
    "llama3 = pd.read_csv(\"DANE/reviews_generated6_cut.csv\")\n",
    "\n",
    "human = pd.read_excel(\"DANE/restaurant_reviews_anonymized.xlsx\")\n",
    "# with open(\"DANE/restaurant_reviews_anonymized.csv\", 'rb') as f:\n",
    "#   human = f.read()"
   ]
  },
  {
   "cell_type": "code",
   "execution_count": 39,
   "metadata": {},
   "outputs": [],
   "source": [
    "for df in [amazon_single,yelp_single,general_gpt3,general_gpt4,llama3]:\n",
    "    df.drop(\"Unnamed: 0\",axis=1,inplace=True)"
   ]
  },
  {
   "cell_type": "code",
   "execution_count": 40,
   "metadata": {},
   "outputs": [],
   "source": [
    "amazon_single = amazon_single.rename(columns={\"text_\": \"text\"})\n",
    "amazon_ext = amazon_ext.rename(columns={\"text_\": \"text\"})\n",
    "amazon_ext['target'] = amazon_ext['label'].map({'CG': 1, 'OR': 0})\n",
    "yelp_ext = yelp_ext.rename(columns={\"label\": \"target\"})\n",
    "\n",
    "human = human.loc[:,['Review','Real']]\n",
    "human.columns = [\"text\",\"target\"]\n",
    "human['target'] = 1 - human['target']\n",
    "\n",
    "amazon_single = amazon_single[amazon_single.apply(lambda x: len(x['text']) >= 20, axis=1)]"
   ]
  },
  {
   "cell_type": "code",
   "execution_count": 41,
   "metadata": {},
   "outputs": [],
   "source": [
    "zbiory = {\"amazon_single\": amazon_single, \"yelp_single\": yelp_single, \"amazon_ext\": amazon_ext, \"yelp_ext\": yelp_ext, \"general_gpt3\": general_gpt3, \"general_gpt4\": general_gpt4, \"human\": human, \"llama3\": llama3}"
   ]
  },
  {
   "cell_type": "code",
   "execution_count": 43,
   "metadata": {},
   "outputs": [
    {
     "name": "stdout",
     "output_type": "stream",
     "text": [
      "==================================================\n",
      "PROCESSING DATASET amazon_single...\n",
      "DATASET amazon_single CLEANED\n",
      "==================================================\n",
      "PROCESSING DATASET yelp_single...\n",
      "DATASET yelp_single CLEANED\n",
      "==================================================\n",
      "PROCESSING DATASET amazon_ext...\n",
      "DATASET amazon_ext CLEANED\n",
      "==================================================\n",
      "PROCESSING DATASET yelp_ext...\n",
      "DATASET yelp_ext CLEANED\n",
      "==================================================\n",
      "PROCESSING DATASET general_gpt3...\n",
      "DATASET general_gpt3 CLEANED\n",
      "==================================================\n",
      "PROCESSING DATASET general_gpt4...\n",
      "DATASET general_gpt4 CLEANED\n",
      "==================================================\n",
      "PROCESSING DATASET human...\n",
      "DATASET human CLEANED\n",
      "==================================================\n",
      "PROCESSING DATASET llama3...\n",
      "DATASET llama3 CLEANED\n"
     ]
    }
   ],
   "source": [
    "for name, df in zbiory.items():\n",
    "    print(\"=\" * 50)  # Dodajemy linie złożoną z 50 znaków \"=\"\n",
    "    print((f\"PROCESSING DATASET {name}...\"))\n",
    "    df['text_without_ner'] = df['text'].apply(remove_ner)\n",
    "    df['cleaned_text'] = df['text_without_ner'].apply(clean_text)\n",
    "    print(f\"DATASET {name} CLEANED\")\n",
    "    df.to_csv(f\"DANE/PREPROCESSED/{name}.csv\")"
   ]
  }
 ],
 "metadata": {
  "kernelspec": {
   "display_name": ".venv",
   "language": "python",
   "name": "python3"
  },
  "language_info": {
   "codemirror_mode": {
    "name": "ipython",
    "version": 3
   },
   "file_extension": ".py",
   "mimetype": "text/x-python",
   "name": "python",
   "nbconvert_exporter": "python",
   "pygments_lexer": "ipython3",
   "version": "3.9.6"
  }
 },
 "nbformat": 4,
 "nbformat_minor": 2
}
